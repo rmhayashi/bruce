{
 "cells": [
  {
   "cell_type": "code",
   "execution_count": 1,
   "metadata": {},
   "outputs": [],
   "source": [
    "# import plotly_express as px\n",
    "import pandas as pd"
   ]
  },
  {
   "cell_type": "code",
   "execution_count": 11,
   "metadata": {},
   "outputs": [],
   "source": [
    "df = pd.read_csv('bases/consultas.csv',sep=';')\n",
    "df2 = pd.read_csv('bases/bases_oracle.csv',sep=';')\n",
    "df = df[df['base'].isin(df2[df2['status'] == 1]['base'])]"
   ]
  },
  {
   "cell_type": "code",
   "execution_count": 12,
   "metadata": {},
   "outputs": [
    {
     "name": "stdout",
     "output_type": "stream",
     "text": [
      "     base                                         conexao  status\n",
      "0  ICWEB1             PSQL/#f6kpzSN@vippweb1:1521/svcpweb       0\n",
      "1  ICWEB3             PSQL/#f6kpzSN@vippweb1:1521/svcpweb       0\n",
      "2  ICWEB4             PSQL/#f6kpzSN@vippweb1:1521/svcpweb       1\n",
      "3  ICWEB5             PSQL/#f6kpzSN@vippweb1:1521/svcpweb       1\n",
      "4  SIEBEL  80656720sql/1234*senha@vippsie8appl:1521/PSIE8       1\n"
     ]
    }
   ],
   "source": [
    "print(df2.head())"
   ]
  },
  {
   "cell_type": "code",
   "execution_count": 15,
   "metadata": {},
   "outputs": [],
   "source": [
    "df = df[df['base'].isin(df2[df2['status'] == 1]['base'])].sort_values(by = ['base','tipo'])"
   ]
  },
  {
   "cell_type": "code",
   "execution_count": 16,
   "metadata": {},
   "outputs": [
    {
     "data": {
      "text/html": [
       "<div>\n",
       "<style scoped>\n",
       "    .dataframe tbody tr th:only-of-type {\n",
       "        vertical-align: middle;\n",
       "    }\n",
       "\n",
       "    .dataframe tbody tr th {\n",
       "        vertical-align: top;\n",
       "    }\n",
       "\n",
       "    .dataframe thead th {\n",
       "        text-align: right;\n",
       "    }\n",
       "</style>\n",
       "<table border=\"1\" class=\"dataframe\">\n",
       "  <thead>\n",
       "    <tr style=\"text-align: right;\">\n",
       "      <th></th>\n",
       "      <th>tipo</th>\n",
       "      <th>base</th>\n",
       "      <th>query</th>\n",
       "    </tr>\n",
       "  </thead>\n",
       "  <tbody>\n",
       "    <tr>\n",
       "      <th>3</th>\n",
       "      <td>CXLOG atividade</td>\n",
       "      <td>SIEBEL</td>\n",
       "      <td>Select ROW_ID, PROCESS_NAME, PROCESS_TYPE,LOGG...</td>\n",
       "    </tr>\n",
       "    <tr>\n",
       "      <th>4</th>\n",
       "      <td>CXLOG instância-1</td>\n",
       "      <td>SIEBEL</td>\n",
       "      <td>Select X_Serv_Addr_Id Id_Endereco From Siebel....</td>\n",
       "    </tr>\n",
       "    <tr>\n",
       "      <th>5</th>\n",
       "      <td>CXLOG instância-2</td>\n",
       "      <td>SIEBEL</td>\n",
       "      <td>SELECT LOGGED_MESSAGE_LONG MSG_ERRO, REQUEST_X...</td>\n",
       "    </tr>\n",
       "    <tr>\n",
       "      <th>0</th>\n",
       "      <td>IDs por Doc</td>\n",
       "      <td>SIEBEL</td>\n",
       "      <td>SELECT  CONTA.INTEGRATION_ID CONTA,  ENDERECO....</td>\n",
       "    </tr>\n",
       "    <tr>\n",
       "      <th>1</th>\n",
       "      <td>IDs por Ordem</td>\n",
       "      <td>SIEBEL</td>\n",
       "      <td>select spi.name,soe.integration_id as ID_conta...</td>\n",
       "    </tr>\n",
       "    <tr>\n",
       "      <th>2</th>\n",
       "      <td>Ordem pela instância</td>\n",
       "      <td>SIEBEL</td>\n",
       "      <td>select C.INTEGRATION_ID conta, e.INTEGRATION_I...</td>\n",
       "    </tr>\n",
       "    <tr>\n",
       "      <th>7</th>\n",
       "      <td>idProd</td>\n",
       "      <td>SIEBEL</td>\n",
       "      <td>select name, row_id from siebel.s_prod_int whe...</td>\n",
       "    </tr>\n",
       "    <tr>\n",
       "      <th>6</th>\n",
       "      <td>risco</td>\n",
       "      <td>SIEBEL</td>\n",
       "      <td>SELECT X_CREDIT_SCORE Nivel_de_risco, X_CREDIT...</td>\n",
       "    </tr>\n",
       "  </tbody>\n",
       "</table>\n",
       "</div>"
      ],
      "text/plain": [
       "                   tipo    base  \\\n",
       "3       CXLOG atividade  SIEBEL   \n",
       "4     CXLOG instância-1  SIEBEL   \n",
       "5     CXLOG instância-2  SIEBEL   \n",
       "0           IDs por Doc  SIEBEL   \n",
       "1         IDs por Ordem  SIEBEL   \n",
       "2  Ordem pela instância  SIEBEL   \n",
       "7                idProd  SIEBEL   \n",
       "6                 risco  SIEBEL   \n",
       "\n",
       "                                               query  \n",
       "3  Select ROW_ID, PROCESS_NAME, PROCESS_TYPE,LOGG...  \n",
       "4  Select X_Serv_Addr_Id Id_Endereco From Siebel....  \n",
       "5  SELECT LOGGED_MESSAGE_LONG MSG_ERRO, REQUEST_X...  \n",
       "0  SELECT  CONTA.INTEGRATION_ID CONTA,  ENDERECO....  \n",
       "1  select spi.name,soe.integration_id as ID_conta...  \n",
       "2  select C.INTEGRATION_ID conta, e.INTEGRATION_I...  \n",
       "7  select name, row_id from siebel.s_prod_int whe...  \n",
       "6  SELECT X_CREDIT_SCORE Nivel_de_risco, X_CREDIT...  "
      ]
     },
     "execution_count": 16,
     "metadata": {},
     "output_type": "execute_result"
    }
   ],
   "source": [
    "df"
   ]
  }
 ],
 "metadata": {
  "kernelspec": {
   "display_name": "Python 3",
   "language": "python",
   "name": "python3"
  },
  "language_info": {
   "codemirror_mode": {
    "name": "ipython",
    "version": 3
   },
   "file_extension": ".py",
   "mimetype": "text/x-python",
   "name": "python",
   "nbconvert_exporter": "python",
   "pygments_lexer": "ipython3",
   "version": "3.6.5"
  }
 },
 "nbformat": 4,
 "nbformat_minor": 2
}
